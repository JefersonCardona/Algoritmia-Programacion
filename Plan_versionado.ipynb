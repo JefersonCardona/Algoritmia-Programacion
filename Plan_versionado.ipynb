{
  "nbformat": 4,
  "nbformat_minor": 0,
  "metadata": {
    "colab": {
      "provenance": [],
      "authorship_tag": "ABX9TyNPFAsnkmZATEm3ZkjcwnW0",
      "include_colab_link": true
    },
    "kernelspec": {
      "name": "python3",
      "display_name": "Python 3"
    },
    "language_info": {
      "name": "python"
    }
  },
  "cells": [
    {
      "cell_type": "markdown",
      "metadata": {
        "id": "view-in-github",
        "colab_type": "text"
      },
      "source": [
        "<a href=\"https://colab.research.google.com/github/JefersonCardona/Algoritmia-Programacion/blob/main/Plan_versionado.ipynb\" target=\"_parent\"><img src=\"https://colab.research.google.com/assets/colab-badge.svg\" alt=\"Open In Colab\"/></a>"
      ]
    },
    {
      "cell_type": "code",
      "execution_count": null,
      "metadata": {
        "id": "ehYUnA8W4NrF"
      },
      "outputs": [],
      "source": []
    },
    {
      "cell_type": "markdown",
      "source": [
        "# **Plan de Versionado para el Sistema de Log y Carga de Datos**\n",
        "\n",
        "##**Versión 0.0.0 - Lanzamiento Inicial**\n",
        "- Se estableció la infraestructura básica del sistema para el registro y la carga de datos.\n",
        "\n",
        "##**Versión 0.1.0 - Funcionalidades de Asignatura y Horas de Trabajo**\n",
        "- Se añadieron funciones para la generación de códigos de asignaturas y el cálculo de las horas de trabajo docente e independiente.\n",
        "\n",
        "##**Versión 0.2.0 - Matriculación Efectiva**\n",
        "- Se introdujo la función principal FuncionPrincipal para matricular estudiantes en grupos organizados por semestre y nivel.\n",
        "\n",
        "##**Versión 0.2.1 - Mejoras en Eficiencia**\n",
        "- Se optimizó el sistema y se corrigieron errores menores para mejorar la eficiencia y la precisión del proceso de matriculación.\n",
        "\n",
        "##**Versión 0.3.0 - Pruebas y Validaciones**\n",
        "- Se implementaron pruebas automáticas y validaciones para garantizar la calidad y fiabilidad del código.\n",
        "\n",
        "##**Versión 0.4.0 - Documentación por Asignatura**\n",
        "- Se añadió la funcionalidad para generar archivos detallados por asignatura y grupo, facilitando la gestión y el acceso a la información.\n",
        "\n",
        "##**Versión 0.4.1 - Afinamiento en la Generación de Documentos**\n",
        "- Se realizaron ajustes en la generación de documentos para aumentar la eficiencia y mejorar la estructura de los directorios.\n",
        "\n",
        "##**Versión 0.5.0 - Automatización y Pruebas de Documentación**\n",
        "Se automatizó la generación de documentos y se realizaron pruebas para asegurar la correcta creación de códigos y archivos.\n",
        "\n",
        "##**Versión 0.5.1 - Integración de la Matriculación Avanzada**\n",
        "- Se integró un proceso avanzado de matriculación utilizando la función FuncionPrincipal para inscribir a los estudiantes en grupos específicos según el semestre y nivel, con tamaños de grupo ajustados a las necesidades de cada nivel.\n",
        "\n",
        "##**Versión 0.5.2 - Registro y Seguimiento**\n",
        "- Se implementó un sistema de registro para documentar el proceso de matriculación y las actividades del sistema, asegurando un seguimiento detallado y una auditoría completa.\n",
        "\n",
        "##**Versión 1.0.0 - Lanzamiento Ejecutable**\n",
        "- **El sistema ha alcanzado su primera versión mayor, indicando que todas las funcionalidades clave están implementadas y probadas.**\n",
        "- **El sistema es completamente operativo y está listo para ser desplegado y utilizado en un entorno de producción.**"
      ],
      "metadata": {
        "id": "FtoUDAGv4OYi"
      }
    }
  ]
}