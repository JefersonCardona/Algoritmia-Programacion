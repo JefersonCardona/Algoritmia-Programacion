{
  "nbformat": 4,
  "nbformat_minor": 0,
  "metadata": {
    "colab": {
      "provenance": [],
      "authorship_tag": "ABX9TyPLEMlX3ovsuMxgQBzqAnmk",
      "include_colab_link": true
    },
    "kernelspec": {
      "name": "python3",
      "display_name": "Python 3"
    },
    "language_info": {
      "name": "python"
    }
  },
  "cells": [
    {
      "cell_type": "markdown",
      "metadata": {
        "id": "view-in-github",
        "colab_type": "text"
      },
      "source": [
        "<a href=\"https://colab.research.google.com/github/JefersonCardona/Algoritmia-Programacion/blob/main/JefCar.ipynb\" target=\"_parent\"><img src=\"https://colab.research.google.com/assets/colab-badge.svg\" alt=\"Open In Colab\"/></a>"
      ]
    },
    {
      "cell_type": "code",
      "source": [
        "import pandas as pd\n",
        "import os\n",
        "from datetime import datetime\n",
        "import logging"
      ],
      "metadata": {
        "id": "utIutwOlHYim"
      },
      "execution_count": null,
      "outputs": []
    },
    {
      "cell_type": "code",
      "source": [
        "RutaFinal = 'Ruta_final'\n",
        "if not os.path.exists(RutaFinal):\n",
        "    os.makedirs(RutaFinal)\n",
        "\n",
        "ArchivoLog = os.path.join(RutaFinal, 'asignaciones.log')\n",
        "\n",
        "MensajesLog = []\n",
        "\n",
        "def MensajeLog(L, Mensaje):\n",
        "    MensajesLog.append(f\"{datetime.now()} - {L} - {Mensaje}\")\n",
        "    if L == \"INFO\":\n",
        "        print(f\"{datetime.now()} - INFO - {Mensaje}\")\n",
        "    elif L == \"ERROR\":\n",
        "        print(f\"{datetime.now()} - ERROR - {Mensaje}\")\n",
        "\n",
        "MensajeLog(\"INFO\", \"Cargando datos de Estudiantes y Malla Curricular\")\n",
        "Datos = pd.read_csv('https://github.com/JefersonCardona/Algoritmia-Programacion/raw/eb776f421bb990b8c16ded477572f5d436f1f646/Archivos/Estudiantes.csv', encoding='latin1', delimiter=';').drop(columns=['Fecha'])\n",
        "MallaCurricular = pd.read_csv('https://github.com/JefersonCardona/Algoritmia-Programacion/raw/eb776f421bb990b8c16ded477572f5d436f1f646/Archivos/MallaCurricular.csv', encoding='latin1', delimiter=';')\n",
        "MensajeLog(\"INFO\", \"Datos cargados con éxito\")\n",
        "\n",
        "def AsignaturaCode(asignatura, semestre, creditos, consecutivo):\n",
        "    return f\"{asignatura[:3].upper()}{semestre}{creditos}{consecutivo:02d}\"\n",
        "\n",
        "def HTD(creditos):\n",
        "    if creditos == 4:\n",
        "        return 96\n",
        "    elif creditos == 3:\n",
        "        return 64\n",
        "    elif creditos == 2:\n",
        "        return 32\n",
        "    elif creditos == 1:\n",
        "        return 16\n",
        "    return 0\n",
        "\n",
        "def HTI(creditos):\n",
        "    if creditos == 4:\n",
        "        return 120\n",
        "    elif creditos == 3:\n",
        "        return 80\n",
        "    elif creditos == 2:\n",
        "        return 64\n",
        "    elif creditos == 1:\n",
        "        return 32\n",
        "    return 0\n",
        "\n",
        "def FuncionPrincipal(estudiantes_df, asignaturas_df, semestre, nivel, tamano_grupo):\n",
        "    MensajeLog(\"INFO\", f\"Matriculando estudiantes para el semestre {semestre}, nivel {nivel}\")\n",
        "    estudiantes_semestre = estudiantes_df[estudiantes_df['Semestre'] == semestre]\n",
        "    total_estudiantes_semestre = len(estudiantes_semestre)\n",
        "    asignaturas_nivel = asignaturas_df[asignaturas_df['Nivel'] == nivel]\n",
        "    grupos = [estudiantes_semestre[i:i + tamano_grupo] for i in range(0, len(estudiantes_semestre), tamano_grupo)]\n",
        "\n",
        "    Directorio = os.path.join(RutaFinal, f'Asignaciones_Semestre_{semestre}')\n",
        "    if not os.path.exists(Directorio):\n",
        "        os.makedirs(Directorio)\n",
        "        MensajeLog(\"INFO\", f\"Directorio creado: {Directorio}\")\n",
        "\n",
        "    for index, asignatura in asignaturas_nivel.iterrows():\n",
        "        asignatura_nombre = asignatura['Asignatura']\n",
        "        creditos = asignatura['Creditos']\n",
        "        total_cursos_asignados = len(grupos)\n",
        "        fecha_creacion = datetime.now().strftime('%Y%m%d')\n",
        "        asignatura_dir = os.path.join(Directorio, asignatura_nombre)\n",
        "        if not os.path.exists(asignatura_dir):\n",
        "            os.makedirs(asignatura_dir)\n",
        "            MensajeLog(\"INFO\", f\"Directorio creado: {asignatura_dir}\")\n",
        "\n",
        "        for numero_grupo, grupo in enumerate(grupos, start=1):\n",
        "            codigo_asignatura = AsignaturaCode(asignatura_nombre, semestre, creditos, numero_grupo)\n",
        "            horas_trabajo_docente = HTD(creditos)\n",
        "            horas_trabajo_independiente = HTI(creditos)\n",
        "            numero_total_estudiantes = total_estudiantes_semestre\n",
        "            cantidad_estudiantes = len(grupo)\n",
        "            nombre_curso_formateado = asignatura_nombre.replace(\" \", \"\").capitalize()\n",
        "            grupo_filename = f\"{codigo_asignatura}-{nombre_curso_formateado}-{cantidad_estudiantes}-{numero_grupo}.csv\"\n",
        "            grupo_excel_filename = f\"{codigo_asignatura}-{nombre_curso_formateado}-{cantidad_estudiantes}-{numero_grupo}.xlsx\"\n",
        "            grupo_path = os.path.join(asignatura_dir, grupo_filename)\n",
        "            grupo_excel_path = os.path.join(asignatura_dir, grupo_excel_filename)\n",
        "            grupo_df = pd.DataFrame({'Estudiante': grupo['Nombre'], '(CA)': codigo_asignatura, '(HTD)': horas_trabajo_docente, '(HTI)': horas_trabajo_independiente, '(NTE)': numero_total_estudiantes, '(CC)': numero_grupo, '(TCA)': total_cursos_asignados, '(FC)': fecha_creacion })\n",
        "            grupo_df.to_csv(grupo_path, index=False, encoding='latin1')\n",
        "            grupo_df.to_excel(grupo_excel_path, index=False)\n",
        "            MensajeLog(\"INFO\", f\"Archivos generados para la asignatura {asignatura_nombre}, grupo {numero_grupo}\")\n",
        "\n",
        "    MensajeLog(\"INFO\", f\"Archivos CSV de asignaciones generados para el semestre {semestre}\")\n"
      ],
      "metadata": {
        "id": "xLu7wyQDPOHC"
      },
      "execution_count": null,
      "outputs": []
    },
    {
      "cell_type": "code",
      "source": [
        "FuncionPrincipal(Datos, MallaCurricular, semestre=1, nivel=1, tamano_grupo=30)\n",
        "FuncionPrincipal(Datos, MallaCurricular, semestre=2, nivel=2, tamano_grupo=30)\n",
        "FuncionPrincipal(Datos, MallaCurricular, semestre=3, nivel=3, tamano_grupo=30)\n",
        "FuncionPrincipal(Datos, MallaCurricular, semestre=4, nivel=4, tamano_grupo=25)\n",
        "FuncionPrincipal(Datos, MallaCurricular, semestre=5, nivel=5, tamano_grupo=25)\n",
        "FuncionPrincipal(Datos, MallaCurricular, semestre=6, nivel=6, tamano_grupo=25)\n",
        "FuncionPrincipal(Datos, MallaCurricular, semestre=7, nivel=7, tamano_grupo=20)\n",
        "FuncionPrincipal(Datos, MallaCurricular, semestre=8, nivel=8, tamano_grupo=20)\n",
        "FuncionPrincipal(Datos, MallaCurricular, semestre=9, nivel=9, tamano_grupo=20)\n",
        "FuncionPrincipal(Datos, MallaCurricular, semestre=10, nivel=10, tamano_grupo=10)\n",
        "\n",
        "with open(ArchivoLog, 'w') as log_file:\n",
        "    for Mensaje in MensajesLog:\n",
        "        log_file.write(Mensaje + '\\n')"
      ],
      "metadata": {
        "id": "OrwtcwJxPUOq"
      },
      "execution_count": null,
      "outputs": []
    }
  ]
}