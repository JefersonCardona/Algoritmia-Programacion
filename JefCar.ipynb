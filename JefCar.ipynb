{
  "nbformat": 4,
  "nbformat_minor": 0,
  "metadata": {
    "colab": {
      "provenance": [],
      "authorship_tag": "ABX9TyNFaolMf4i/q0T03aACJedk",
      "include_colab_link": true
    },
    "kernelspec": {
      "name": "python3",
      "display_name": "Python 3"
    },
    "language_info": {
      "name": "python"
    }
  },
  "cells": [
    {
      "cell_type": "markdown",
      "metadata": {
        "id": "view-in-github",
        "colab_type": "text"
      },
      "source": [
        "<a href=\"https://colab.research.google.com/github/JefersonCardona/Algoritmia-Programacion/blob/main/JefCar.ipynb\" target=\"_parent\"><img src=\"https://colab.research.google.com/assets/colab-badge.svg\" alt=\"Open In Colab\"/></a>"
      ]
    },
    {
      "cell_type": "code",
      "source": [
        "import pandas as pd\n",
        "import os\n",
        "from datetime import datetime\n",
        "import logging"
      ],
      "metadata": {
        "id": "utIutwOlHYim"
      },
      "execution_count": 1,
      "outputs": []
    },
    {
      "cell_type": "code",
      "source": [
        "ruta_final_dir = 'Ruta_final'\n",
        "if not os.path.exists(ruta_final_dir):\n",
        "    os.makedirs(ruta_final_dir)\n",
        "\n",
        "log_filename = os.path.join(ruta_final_dir, 'asignaciones.log')\n",
        "\n",
        "log_messages = []\n",
        "\n",
        "def log_message(level, message):\n",
        "    log_messages.append(f\"{datetime.now()} - {level} - {message}\")\n",
        "    if level == \"INFO\":\n",
        "        print(f\"{datetime.now()} - INFO - {message}\")\n",
        "    elif level == \"ERROR\":\n",
        "        print(f\"{datetime.now()} - ERROR - {message}\")\n",
        "\n",
        "log_message(\"INFO\", \"Cargando datos de Estudiantes y Malla Curricular\")\n",
        "Datos = pd.read_csv('https://github.com/JefersonCardona/Algoritmia-Programacion/raw/eb776f421bb990b8c16ded477572f5d436f1f646/Archivos/Estudiantes.csv', encoding='latin1', delimiter=';').drop(columns=['Fecha'])\n",
        "MallaCurricular = pd.read_csv('https://github.com/JefersonCardona/Algoritmia-Programacion/raw/eb776f421bb990b8c16ded477572f5d436f1f646/Archivos/MallaCurricular.csv', encoding='latin1', delimiter=';')\n",
        "log_message(\"INFO\", \"Datos cargados con éxito\")\n",
        "\n",
        "def generar_codigo_asignatura(asignatura, semestre, creditos, consecutivo):\n",
        "    return f\"{asignatura[:3].upper()}{semestre}{creditos}{consecutivo:02d}\"\n",
        "\n",
        "def calcular_htd(creditos):\n",
        "    if creditos == 4:\n",
        "        return 96\n",
        "    elif creditos == 3:\n",
        "        return 64\n",
        "    elif creditos == 2:\n",
        "        return 32\n",
        "    elif creditos == 1:\n",
        "        return 16\n",
        "    return 0\n",
        "\n",
        "def calcular_hti(creditos):\n",
        "    if creditos == 4:\n",
        "        return 120\n",
        "    elif creditos == 3:\n",
        "        return 80\n",
        "    elif creditos == 2:\n",
        "        return 64\n",
        "    elif creditos == 1:\n",
        "        return 32\n",
        "    return 0\n",
        "\n",
        "def matricular_estudiantes(estudiantes_df, asignaturas_df, semestre, nivel, tamano_grupo):\n",
        "    log_message(\"INFO\", f\"Matriculando estudiantes para el semestre {semestre}, nivel {nivel}\")\n",
        "    estudiantes_semestre = estudiantes_df[estudiantes_df['Semestre'] == semestre]\n",
        "    total_estudiantes_semestre = len(estudiantes_semestre)\n",
        "    asignaturas_nivel = asignaturas_df[asignaturas_df['Nivel'] == nivel]\n",
        "    grupos = [estudiantes_semestre[i:i + tamano_grupo] for i in range(0, len(estudiantes_semestre), tamano_grupo)]\n",
        "\n",
        "    base_dir = os.path.join(ruta_final_dir, f'Asignaciones_Semestre_{semestre}')\n",
        "    if not os.path.exists(base_dir):\n",
        "        os.makedirs(base_dir)\n",
        "        log_message(\"INFO\", f\"Directorio creado: {base_dir}\")\n",
        "\n",
        "    for index, asignatura in asignaturas_nivel.iterrows():\n",
        "        asignatura_nombre = asignatura['Asignatura']\n",
        "        creditos = asignatura['Creditos']\n",
        "        total_cursos_asignados = len(grupos)\n",
        "        fecha_creacion = datetime.now().strftime('%Y%m%d')\n",
        "        asignatura_dir = os.path.join(base_dir, asignatura_nombre)\n",
        "        if not os.path.exists(asignatura_dir):\n",
        "            os.makedirs(asignatura_dir)\n",
        "            log_message(\"INFO\", f\"Directorio creado: {asignatura_dir}\")\n",
        "\n",
        "        for numero_grupo, grupo in enumerate(grupos, start=1):\n",
        "            codigo_asignatura = generar_codigo_asignatura(asignatura_nombre, semestre, creditos, numero_grupo)\n",
        "            horas_trabajo_docente = calcular_htd(creditos)\n",
        "            horas_trabajo_independiente = calcular_hti(creditos)\n",
        "            numero_total_estudiantes = total_estudiantes_semestre\n",
        "            cantidad_estudiantes = len(grupo)\n",
        "            nombre_curso_formateado = asignatura_nombre.replace(\" \", \"\").capitalize()\n",
        "            grupo_filename = f\"{codigo_asignatura}-{nombre_curso_formateado}-{cantidad_estudiantes}-{numero_grupo}.csv\"\n",
        "            grupo_excel_filename = f\"{codigo_asignatura}-{nombre_curso_formateado}-{cantidad_estudiantes}-{numero_grupo}.xlsx\"\n",
        "            grupo_path = os.path.join(asignatura_dir, grupo_filename)\n",
        "            grupo_excel_path = os.path.join(asignatura_dir, grupo_excel_filename)\n",
        "            grupo_df = pd.DataFrame({'Estudiante': grupo['Nombre'], '(CA)': codigo_asignatura, '(HTD)': horas_trabajo_docente, '(HTI)': horas_trabajo_independiente, '(NTE)': numero_total_estudiantes, '(CC)': numero_grupo, '(TCA)': total_cursos_asignados, '(FC)': fecha_creacion })\n",
        "            grupo_df.to_csv(grupo_path, index=False, encoding='latin1')\n",
        "            grupo_df.to_excel(grupo_excel_path, index=False)\n",
        "            log_message(\"INFO\", f\"Archivos generados para la asignatura {asignatura_nombre}, grupo {numero_grupo}\")\n",
        "\n",
        "    log_message(\"INFO\", f\"Archivos CSV de asignaciones generados para el semestre {semestre}\")\n",
        "\n"
      ],
      "metadata": {
        "id": "q-NfrRvPGQF6"
      },
      "execution_count": null,
      "outputs": []
    },
    {
      "cell_type": "code",
      "source": [
        "\n",
        "matricular_estudiantes(Datos, MallaCurricular, semestre=1, nivel=1, tamano_grupo=30)\n",
        "matricular_estudiantes(Datos, MallaCurricular, semestre=2, nivel=2, tamano_grupo=30)\n",
        "matricular_estudiantes(Datos, MallaCurricular, semestre=3, nivel=3, tamano_grupo=30)\n",
        "matricular_estudiantes(Datos, MallaCurricular, semestre=4, nivel=4, tamano_grupo=25)\n",
        "matricular_estudiantes(Datos, MallaCurricular, semestre=5, nivel=5, tamano_grupo=25)\n",
        "matricular_estudiantes(Datos, MallaCurricular, semestre=6, nivel=6, tamano_grupo=25)\n",
        "matricular_estudiantes(Datos, MallaCurricular, semestre=7, nivel=7, tamano_grupo=20)\n",
        "matricular_estudiantes(Datos, MallaCurricular, semestre=8, nivel=8, tamano_grupo=20)\n",
        "matricular_estudiantes(Datos, MallaCurricular, semestre=9, nivel=9, tamano_grupo=20)\n",
        "matricular_estudiantes(Datos, MallaCurricular, semestre=10, nivel=10, tamano_grupo=10)\n",
        "\n",
        "with open(log_filename, 'w') as log_file:\n",
        "    for message in log_messages:\n",
        "        log_file.write(message + '\\n')"
      ],
      "metadata": {
        "id": "0f82nb-4JYmS"
      },
      "execution_count": null,
      "outputs": []
    }
  ]
}